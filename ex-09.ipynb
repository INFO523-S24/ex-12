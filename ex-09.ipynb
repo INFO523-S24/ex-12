{
 "cells": [
  {
   "cell_type": "code",
   "execution_count": null,
   "metadata": {
    "vscode": {
     "languageId": "yaml"
    }
   },
   "outputs": [],
   "source": [
    "---\n",
    "  title: \"Ex-09: Time series analysis\"\n",
    "  author: \"INSERT YOUR NAME HERE\"\n",
    "  format:\n",
    "    html:\n",
    "      embed-resources: true\n",
    "  toc: true\n",
    "  jupyter: python3\n",
    "  ---"
   ]
  },
  {
   "cell_type": "markdown",
   "metadata": {},
   "source": [
    "## **Step 1: Setup and Data Preprocessing**\n",
    "\n",
    "1.  Load the dataset into a pandas DataFrame.\n",
    "\n",
    "2.  Convert the **`date`** column to datetime format and set it as the index of the DataFrame.\n",
    "\n",
    "3.  Convert the `aqi_value` column as needed.\n",
    "\n",
    "4.  Plot the **`aqi_value`** time series to visually inspect the data."
   ]
  },
  {
   "cell_type": "code",
   "execution_count": null,
   "metadata": {},
   "outputs": [],
   "source": []
  },
  {
   "cell_type": "markdown",
   "metadata": {},
   "source": [
    "## **Step 2: Time Series Decomposition**\n",
    "\n",
    "1.  Use **`seasonal_decompose`** from the **`statsmodels`** package to decompose the time series into trend, seasonal, and residual components.\n",
    "\n",
    "2.  Plot the decomposed components to understand the underlying patterns."
   ]
  },
  {
   "cell_type": "code",
   "execution_count": null,
   "metadata": {},
   "outputs": [],
   "source": []
  },
  {
   "cell_type": "markdown",
   "metadata": {},
   "source": [
    "## **Part 3: Testing for Stationarity**\n",
    "\n",
    "1.  Perform an [Augmented Dickey-Fuller](https://en.wikipedia.org/wiki/Augmented_Dickey%E2%80%93Fuller_test) (ADF) test to check the stationarity of the time series.\n",
    "\n",
    "2.  If the series is not stationary, apply differencing to make it stationary."
   ]
  },
  {
   "cell_type": "code",
   "execution_count": null,
   "metadata": {},
   "outputs": [],
   "source": []
  },
  {
   "cell_type": "markdown",
   "metadata": {},
   "source": [
    "## **Step 4: ARIMA Model**\n",
    "\n",
    "1.  Use the **`auto_arima`** function from the **`pmdarima`** package to identify the optimal parameters (p,d,q) for the ARIMA model.\n",
    "\n",
    "2.  Fit an ARIMA model with the identified parameters.\n",
    "\n",
    "3.  Plot the original vs. fitted values to assess the model's performance."
   ]
  },
  {
   "cell_type": "code",
   "execution_count": null,
   "metadata": {},
   "outputs": [],
   "source": []
  },
  {
   "cell_type": "markdown",
   "metadata": {},
   "source": [
    "## **Part 5: Forecasting**\n",
    "\n",
    "1.  Forecast AQI values for the next 30 days using the fitted ARIMA model.\n",
    "\n",
    "2.  Plot the forecasted values alongside the historical data to visualize the forecast."
   ]
  },
  {
   "cell_type": "code",
   "execution_count": null,
   "metadata": {},
   "outputs": [],
   "source": []
  },
  {
   "cell_type": "markdown",
   "metadata": {},
   "source": [
    "## **Part 6: Detrending and Seasonality Analysis**\n",
    "\n",
    "1.  Explore different detrending methods (e.g., subtracting a moving average, polynomial detrending) using the **`detrend_aqi`** and **`poly_trend`** columns.\n",
    "\n",
    "2.  Analyze seasonality patterns in the detrended data."
   ]
  },
  {
   "cell_type": "code",
   "execution_count": null,
   "metadata": {},
   "outputs": [],
   "source": []
  },
  {
   "cell_type": "markdown",
   "metadata": {},
   "source": [
    "## **Assignment:**\n",
    "\n",
    "1.  Implement the data preprocessing, model training, and evaluation steps.\n",
    "\n",
    "2.  Explore the relationship between cage-free percentages and egg production, utilizing the models trained.\n",
    "\n",
    "3.  Reflect on the implications of your findings for the poultry industry, particularly concerning cage-free housing practices."
   ]
  }
 ],
 "metadata": {
  "language_info": {
   "name": "python"
  }
 },
 "nbformat": 4,
 "nbformat_minor": 2
}
